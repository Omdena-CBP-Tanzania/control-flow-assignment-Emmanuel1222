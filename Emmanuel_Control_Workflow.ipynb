{
 "cells": [
  {
   "cell_type": "code",
   "execution_count": 3,
   "id": "2081d80c-c8da-4a0f-b6a6-ba6fb43bf32c",
   "metadata": {},
   "outputs": [
    {
     "name": "stdout",
     "output_type": "stream",
     "text": [
      "0\n",
      "2\n",
      "4\n",
      "6\n",
      "8\n",
      "10\n",
      "12\n",
      "14\n"
     ]
    }
   ],
   "source": [
    "# Task 1: while loop\n",
    "number = 0\n",
    "while number <= 20:\n",
    "    if number == 16:\n",
    "        break\n",
    "    if number % 2 == 0: \n",
    "        print(number)\n",
    "    number += 1\n",
    "    pass"
   ]
  },
  {
   "cell_type": "code",
   "execution_count": 11,
   "id": "44a8e2ab-ab36-42ee-8b04-69f920c4cbe5",
   "metadata": {},
   "outputs": [
    {
     "name": "stdout",
     "output_type": "stream",
     "text": [
      "1\n",
      "2\n",
      "4\n",
      "5\n",
      "7\n",
      "8\n",
      "10\n",
      "11\n",
      "13\n",
      "14\n"
     ]
    }
   ],
   "source": [
    "# Task 2: for loop with continue\n",
    "for num in range(1, 16):\n",
    "    if num % 3 == 0:\n",
    "        continue\n",
    "    print(num)\n",
    "    pass"
   ]
  },
  {
   "cell_type": "code",
   "execution_count": null,
   "id": "ce23821c-39bd-4253-9dee-574c18686963",
   "metadata": {},
   "outputs": [],
   "source": [
    "# Task 3: if-else statement\n",
    "number = int(input(\"Enter a number:\"))\n",
    "if number > 0:\n",
    "    print(f\"{number} is a positive number. It's greater than zero!\")\n",
    "elif number < 0:\n",
    "    print(f\"{number} is negative number. It's less than zero!\")\n",
    "else:\n",
    "    print(f\"The number is zero. It's neither positive nor negative!\")"
   ]
  },
  {
   "cell_type": "code",
   "execution_count": null,
   "id": "7186d78b-f065-46f3-b6f2-796b8db0e549",
   "metadata": {},
   "outputs": [],
   "source": [
    "# Task 4: Nested loops\n",
    "for i in range(1, 6):\n",
    "    for j in range(1, 6):\n",
    "        print(f\"{1 * j}\", end=\"\\t\"\n",
    "    print()\n",
    "        pass"
   ]
  },
  {
   "cell_type": "code",
   "execution_count": null,
   "id": "fb1aefcc-2727-46c0-aecc-b3cbb7ebb774",
   "metadata": {},
   "outputs": [],
   "source": []
  }
 ],
 "metadata": {
  "kernelspec": {
   "display_name": "Python [conda env:base] *",
   "language": "python",
   "name": "conda-base-py"
  },
  "language_info": {
   "codemirror_mode": {
    "name": "ipython",
    "version": 3
   },
   "file_extension": ".py",
   "mimetype": "text/x-python",
   "name": "python",
   "nbconvert_exporter": "python",
   "pygments_lexer": "ipython3",
   "version": "3.11.7"
  }
 },
 "nbformat": 4,
 "nbformat_minor": 5
}
